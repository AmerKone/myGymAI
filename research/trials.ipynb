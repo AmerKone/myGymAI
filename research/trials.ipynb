{
 "cells": [
  {
   "cell_type": "code",
   "execution_count": null,
   "id": "c343eac0",
   "metadata": {},
   "outputs": [],
   "source": [
    "from langchain.document_loaders import PyPDFLoader\n",
    "from langchain.document_loaders import DirectoryLoader\n",
    "from langchain.text_splitter import RecursiveCharacterTextSplitter\n",
    "\n",
    "# Extract text from PDF\n",
    "def load_pdf(data):\n",
    "    loader = DirectoryLoader(\n",
    "        data,\n",
    "        glob=\"*.pdf\",\n",
    "        loader_cls=PyPDFLoader,\n",
    "    )\n",
    "    documents = loader.load()\n",
    "    return documents"
   ]
  },
  {
   "cell_type": "code",
   "execution_count": 2,
   "id": "4e3a7353",
   "metadata": {},
   "outputs": [],
   "source": [
    "extracted_docs = load_pdf(\"data\")"
   ]
  },
  {
   "cell_type": "code",
   "execution_count": 3,
   "id": "7b86bd28",
   "metadata": {},
   "outputs": [],
   "source": [
    "from typing import List \n",
    "from langchain.schema import Document  \n",
    "\n",
    "def filter_short_docs(docs: List[Document]) -> List[Document]:\n",
    "    short_docs: List[Document] = []\n",
    "    for doc in docs:\n",
    "        src = doc.metadata.get(\"source\")\n",
    "        short_docs.append(Document(page_content=doc.page_content, metadata={\"source\": src}))\n",
    "    return short_docs"
   ]
  },
  {
   "cell_type": "code",
   "execution_count": 4,
   "id": "8b9afbd2",
   "metadata": {},
   "outputs": [],
   "source": [
    "short_docs = filter_short_docs(extracted_docs)"
   ]
  },
  {
   "cell_type": "code",
   "execution_count": 5,
   "id": "f706bfc9",
   "metadata": {},
   "outputs": [],
   "source": [
    "# Split text into chunks\n",
    "def split_docs(docs):\n",
    "    text_splitter = RecursiveCharacterTextSplitter(\n",
    "        chunk_size=500,\n",
    "        chunk_overlap=20,\n",
    "    )\n",
    "    texts_chunked = text_splitter.split_documents(docs)\n",
    "    return texts_chunked"
   ]
  },
  {
   "cell_type": "code",
   "execution_count": 6,
   "id": "81958f3d",
   "metadata": {},
   "outputs": [],
   "source": [
    "text_chunked = split_docs(short_docs)"
   ]
  },
  {
   "cell_type": "code",
   "execution_count": 7,
   "id": "7f5b5192",
   "metadata": {},
   "outputs": [
    {
     "data": {
      "text/plain": [
       "3003"
      ]
     },
     "execution_count": 7,
     "metadata": {},
     "output_type": "execute_result"
    }
   ],
   "source": [
    "len(text_chunked)"
   ]
  },
  {
   "cell_type": "code",
   "execution_count": null,
   "id": "b2dfa2ca",
   "metadata": {},
   "outputs": [],
   "source": [
    "from langchain.embeddings import HuggingFaceEmbeddings\n",
    "\n",
    "def download_embeddings():\n",
    "    embeddings = HuggingFaceEmbeddings(\n",
    "        model_name=\"sentence-transformers/all-MiniLM-L6-v2\",\n",
    "        )\n",
    "    return embeddings\n",
    "\n",
    "embedding = download_embeddings()"
   ]
  },
  {
   "cell_type": "code",
   "execution_count": 9,
   "id": "7a05642f",
   "metadata": {},
   "outputs": [
    {
     "data": {
      "text/plain": [
       "HuggingFaceEmbeddings(client=SentenceTransformer(\n",
       "  (0): Transformer({'max_seq_length': 256, 'do_lower_case': False}) with Transformer model: BertModel \n",
       "  (1): Pooling({'word_embedding_dimension': 384, 'pooling_mode_cls_token': False, 'pooling_mode_mean_tokens': True, 'pooling_mode_max_tokens': False, 'pooling_mode_mean_sqrt_len_tokens': False, 'pooling_mode_weightedmean_tokens': False, 'pooling_mode_lasttoken': False, 'include_prompt': True})\n",
       "  (2): Normalize()\n",
       "), model_name='sentence-transformers/all-MiniLM-L6-v2', cache_folder=None, model_kwargs={}, encode_kwargs={}, multi_process=False, show_progress=False)"
      ]
     },
     "execution_count": 9,
     "metadata": {},
     "output_type": "execute_result"
    }
   ],
   "source": [
    "embedding"
   ]
  },
  {
   "cell_type": "code",
   "execution_count": 10,
   "id": "fc81463e",
   "metadata": {},
   "outputs": [],
   "source": [
    "vector = embedding.embed_query(\"Hello world\")"
   ]
  },
  {
   "cell_type": "code",
   "execution_count": 11,
   "id": "4df5085e",
   "metadata": {},
   "outputs": [
    {
     "data": {
      "text/plain": [
       "384"
      ]
     },
     "execution_count": 11,
     "metadata": {},
     "output_type": "execute_result"
    }
   ],
   "source": [
    "len(vector)"
   ]
  },
  {
   "cell_type": "code",
   "execution_count": 12,
   "id": "1a73004b",
   "metadata": {},
   "outputs": [
    {
     "data": {
      "text/plain": [
       "True"
      ]
     },
     "execution_count": 12,
     "metadata": {},
     "output_type": "execute_result"
    }
   ],
   "source": [
    "from dotenv import load_dotenv\n",
    "load_dotenv()"
   ]
  },
  {
   "cell_type": "code",
   "execution_count": null,
   "id": "65a4d345",
   "metadata": {},
   "outputs": [],
   "source": [
    "import os\n",
    "PINECONE_API_KEY = os.getenv(\"PINECONE_API_KEY\")\n",
    "# OPENAI_API_KEY = os.getenv(\"OPENAI_API_KEY\")\n",
    "\n",
    "os.environ[\"PINECONE_API_KEY\"] = PINECONE_API_KEY\n",
    "os.environ[\"OPENAI_API_KEY\"] = ''"
   ]
  },
  {
   "cell_type": "code",
   "execution_count": 15,
   "id": "f69bda21",
   "metadata": {},
   "outputs": [],
   "source": [
    "from pinecone import Pinecone\n",
    "pinecone_api = PINECONE_API_KEY\n",
    "\n",
    "pc = Pinecone(api_key=pinecone_api)"
   ]
  },
  {
   "cell_type": "code",
   "execution_count": 59,
   "id": "faa53328",
   "metadata": {},
   "outputs": [],
   "source": [
    "from pinecone import ServerlessSpec\n",
    "index_name = \"gym-chatbot\"\n",
    "if not pc.has_index(index_name):\n",
    "    pc.create_index(\n",
    "        name=index_name,\n",
    "        dimension=384,\n",
    "        metric=\"cosine\",\n",
    "        spec=ServerlessSpec(cloud=\"aws\", region=\"us-east-1\"),\n",
    "    ) \n",
    "\n",
    "    index = pc.Index(index_name)"
   ]
  },
  {
   "cell_type": "code",
   "execution_count": null,
   "id": "0c410149",
   "metadata": {},
   "outputs": [],
   "source": [
    "from langchain_pinecone import PineconeVectorStore\n",
    "docsearch = PineconeVectorStore.from_documents(documents=text_chunked, embedding=embedding, index_name=index_name)  "
   ]
  },
  {
   "cell_type": "code",
   "execution_count": 60,
   "id": "4daa4a29",
   "metadata": {},
   "outputs": [],
   "source": [
    "# Load from existing index\n",
    "from langchain_pinecone import PineconeVectorStore\n",
    "docsearch = PineconeVectorStore.from_existing_index(embedding=embedding, index_name=index_name)"
   ]
  },
  {
   "cell_type": "code",
   "execution_count": 61,
   "id": "948130f3",
   "metadata": {},
   "outputs": [],
   "source": [
    "retriever = docsearch.as_retriever(search_type=\"similarity\", search_kwargs={\"k\": 3})"
   ]
  },
  {
   "cell_type": "code",
   "execution_count": 62,
   "id": "da1c708d",
   "metadata": {},
   "outputs": [
    {
     "data": {
      "text/plain": [
       "[Document(id='de341bd6-ee3a-47ae-8134-e9562f508398', metadata={'source': 'data\\\\Gym_book.pdf'}, page_content='below chest level.'),\n",
       " Document(id='f17bfc62-3fee-4dfa-8602-323cbb5fe506', metadata={'source': 'data\\\\Gym_book.pdf'}, page_content='Free ebooks ==>   www.ebook777.com\\nJim Stoppani’s Encyclopedia of Muscle & Strength54\\nChest\\nThe chest refers to the muscle group known as the \\npectoralis major. This consists of the upper pecto-\\nralis major and lower pectoralis major (see figure \\n5.1). The pectoralis muscles perform movements \\nsuch as horizontal adduction of the upper arms, \\nas in the dumbbell fly. For detailed descriptions \\nof chest exercises, refer to chapter 14. Basic, \\nmultijoint exercises for the chest involve pressing'),\n",
       " Document(id='439b3120-2575-4e06-93f4-ca7202f3d82a', metadata={'source': 'data\\\\Gym_book.pdf'}, page_content='your upper chest.\\nPOWER CLEAN')]"
      ]
     },
     "execution_count": 62,
     "metadata": {},
     "output_type": "execute_result"
    }
   ],
   "source": [
    "retrieved_docs = retriever.invoke(\"What is Chest?\")\n",
    "retrieved_docs"
   ]
  },
  {
   "cell_type": "code",
   "execution_count": 63,
   "id": "39a52145",
   "metadata": {},
   "outputs": [],
   "source": [
    "from langchain_openai import ChatOpenAI\n",
    "model = ChatOpenAI(model=\"gpt-4o-mini\")"
   ]
  },
  {
   "cell_type": "code",
   "execution_count": 64,
   "id": "5552963b",
   "metadata": {},
   "outputs": [],
   "source": [
    "from langchain.chains import create_retrieval_chain\n",
    "from langchain.chains.combine_documents import create_stuff_documents_chain\n",
    "from langchain_core.prompts import ChatPromptTemplate"
   ]
  },
  {
   "cell_type": "code",
   "execution_count": 65,
   "id": "66a3147e",
   "metadata": {},
   "outputs": [],
   "source": [
    "system_prompt = ( \"You are a helpful AI assistant, expert in gym and body building.\"\n",
    "                    \"Use the following pieces of context to answer the question at the end.\"\n",
    "                    \" If you don't know the answer, just say that you don't know, don't try to make up an answer.\"\n",
    "                    \"\\n\\n\"\n",
    "                    \"{context}\")\n",
    "\n",
    "prompt = ChatPromptTemplate.from_messages(\n",
    "    [\n",
    "    (\"system\", system_prompt),\n",
    "    (\"user\", \"{input}\"),\n",
    "    ]\n",
    ")\n"
   ]
  },
  {
   "cell_type": "code",
   "execution_count": 66,
   "id": "9d6d7e7f",
   "metadata": {},
   "outputs": [],
   "source": [
    "question_answer_chain = create_stuff_documents_chain(model, prompt)\n",
    "rag_chain = create_retrieval_chain(retriever, question_answer_chain)"
   ]
  },
  {
   "cell_type": "code",
   "execution_count": 67,
   "id": "f32215ce",
   "metadata": {},
   "outputs": [
    {
     "name": "stdout",
     "output_type": "stream",
     "text": [
      "To train your chest effectively, you should include exercises that target the upper, middle, and lower pectoralis muscles. A good chest workout might include the following exercises:\n",
      "\n",
      "1. **Incline Bench Press** (targets upper pectoralis): Start with this exercise as your first movement, aiming for a weight that allows you to complete about 10 reps.\n",
      "2. **Flat Bench Press** (targets middle pectoralis): This is a staple exercise that allows for heavy lifting and effective muscle building.\n",
      "3. **Decline Bench Press** (targets lower pectoralis): This exercise can round out your chest workout by ensuring you stimulate the lower part of your chest.\n",
      "\n",
      "You can also incorporate additional exercises such as dumbbell flyes or cable crossovers for variety.\n",
      "\n",
      "As for post-workout nutrition, it's important to consume a meal or snack that includes both protein and carbohydrates to aid in recovery and muscle growth. Good options include:\n",
      "\n",
      "- Protein shake with a banana or oats\n",
      "- Grilled chicken with brown rice and vegetables\n",
      "- Greek yogurt with fruit and a piece of whole-grain toast\n",
      "- Eggs with whole grain toast and avocado\n",
      "\n",
      "Aim to have this meal within 30 to 60 minutes after your workout for optimal recovery.\n"
     ]
    }
   ],
   "source": [
    "response = rag_chain.invoke({\"input\": \"How to train chest? And what should i eat afterwards?\"})\n",
    "print(response[\"answer\"])"
   ]
  },
  {
   "cell_type": "code",
   "execution_count": null,
   "id": "937cea9f",
   "metadata": {},
   "outputs": [],
   "source": []
  }
 ],
 "metadata": {
  "kernelspec": {
   "display_name": "aienv",
   "language": "python",
   "name": "python3"
  },
  "language_info": {
   "codemirror_mode": {
    "name": "ipython",
    "version": 3
   },
   "file_extension": ".py",
   "mimetype": "text/x-python",
   "name": "python",
   "nbconvert_exporter": "python",
   "pygments_lexer": "ipython3",
   "version": "3.11.3"
  }
 },
 "nbformat": 4,
 "nbformat_minor": 5
}
